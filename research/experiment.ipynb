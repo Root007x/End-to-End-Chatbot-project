{
 "cells": [
  {
   "cell_type": "code",
   "execution_count": 1,
   "id": "4d0a1eb7",
   "metadata": {},
   "outputs": [
    {
     "data": {
      "text/plain": [
       "'c:\\\\Users\\\\BOSS\\\\Desktop\\\\Chatbot project\\\\End-to-End-Chatbot-project\\\\research'"
      ]
     },
     "execution_count": 1,
     "metadata": {},
     "output_type": "execute_result"
    }
   ],
   "source": [
    "%pwd"
   ]
  },
  {
   "cell_type": "code",
   "execution_count": 2,
   "id": "c97b3714",
   "metadata": {},
   "outputs": [],
   "source": [
    "import os"
   ]
  },
  {
   "cell_type": "code",
   "execution_count": 3,
   "id": "2d4ea4e5",
   "metadata": {},
   "outputs": [],
   "source": [
    "os.chdir(\"../\")"
   ]
  },
  {
   "cell_type": "code",
   "execution_count": 4,
   "id": "3fc772b7",
   "metadata": {},
   "outputs": [
    {
     "data": {
      "text/plain": [
       "'c:\\\\Users\\\\BOSS\\\\Desktop\\\\Chatbot project\\\\End-to-End-Chatbot-project'"
      ]
     },
     "execution_count": 4,
     "metadata": {},
     "output_type": "execute_result"
    }
   ],
   "source": [
    "%pwd"
   ]
  },
  {
   "cell_type": "code",
   "execution_count": 5,
   "id": "94d8f4d4",
   "metadata": {},
   "outputs": [],
   "source": [
    "from langchain.document_loaders import PyPDFLoader, DirectoryLoader\n",
    "from langchain.text_splitter import RecursiveCharacterTextSplitter"
   ]
  },
  {
   "cell_type": "code",
   "execution_count": null,
   "id": "50d5737d",
   "metadata": {},
   "outputs": [],
   "source": [
    "## Load pdf files\n",
    "def load_pdf_file(data):\n",
    "    loader = DirectoryLoader(\n",
    "        data,\n",
    "        glob = \"*.pdf\",\n",
    "        loader_cls=PyPDFLoader\n",
    "    )\n",
    "    return loader.load()"
   ]
  },
  {
   "cell_type": "code",
   "execution_count": 7,
   "id": "d2e87c73",
   "metadata": {},
   "outputs": [],
   "source": [
    "docs = load_pdf_file(data = \"data\")"
   ]
  },
  {
   "cell_type": "code",
   "execution_count": 35,
   "id": "7d34b3f9",
   "metadata": {},
   "outputs": [],
   "source": [
    "# Text split\n",
    "def text_split(extracted_data):\n",
    "    splitter = RecursiveCharacterTextSplitter(\n",
    "        chunk_size = 330,\n",
    "        chunk_overlap = 20\n",
    "    )\n",
    "    chunk = splitter.split_documents(extracted_data)\n",
    "    return chunk"
   ]
  },
  {
   "cell_type": "code",
   "execution_count": 36,
   "id": "6ad6ae72",
   "metadata": {},
   "outputs": [
    {
     "name": "stdout",
     "output_type": "stream",
     "text": [
      "512\n"
     ]
    }
   ],
   "source": [
    "text_chunks = text_split(docs)\n",
    "print(len(text_chunks))"
   ]
  },
  {
   "cell_type": "code",
   "execution_count": 38,
   "id": "d3b0215a",
   "metadata": {},
   "outputs": [
    {
     "data": {
      "text/plain": [
       "'25/04/2022 The Constitution of the People   ’s Republic of Bangladesh\\nPART I\\nTHE REPUBLIC\\nThe Constitution of the People   ’s Republic of Bangladesh\\n( ACT NO. OF 1972 )\\n[BISMILLAH-AR-RAHMAN-AR-RAHIM1\\n (In the name of Allah, the Beneficient, the Merciful)/\\n In the name of the Creator, the Merciful.]\\n  PREAMBLE'"
      ]
     },
     "execution_count": 38,
     "metadata": {},
     "output_type": "execute_result"
    }
   ],
   "source": [
    "text_chunks[0].page_content"
   ]
  },
  {
   "cell_type": "code",
   "execution_count": 42,
   "id": "82baeee0",
   "metadata": {},
   "outputs": [],
   "source": [
    "from langchain.embeddings import HuggingFaceEmbeddings"
   ]
  },
  {
   "cell_type": "code",
   "execution_count": 49,
   "id": "a5dec6b7",
   "metadata": {},
   "outputs": [],
   "source": [
    "embedding = HuggingFaceEmbeddings(\n",
    "    model_name = \"sentence-transformers/all-MiniLM-L6-v2\"\n",
    ")"
   ]
  },
  {
   "cell_type": "code",
   "execution_count": 51,
   "id": "42c73edb",
   "metadata": {},
   "outputs": [
    {
     "name": "stdout",
     "output_type": "stream",
     "text": [
      "[-0.03483875095844269, 0.060805998742580414, 0.09206905215978622, 0.04381444677710533, -0.04384097084403038, -0.08060231804847717, 0.05162295326590538, 0.00019532481383066624, -0.09116464108228683, 0.03794107213616371, -0.017033925279974937, 0.0010522498050704598, -0.0174382496625185, -0.03719784691929817, 0.037271659821271896, -0.02864157408475876, 0.1004432663321495, -0.08060581982135773, -0.12832653522491455, 0.03520473465323448, -0.04183833301067352, 0.02712908573448658, 0.004000987391918898, 0.048280805349349976, -0.05778234824538231, -0.04523955658078194, 0.011549552902579308, 0.009121071547269821, 0.05104982852935791, -0.0879344493150711, -0.024926627054810524, 0.038468506187200546, -0.004912429489195347, 0.014689882285892963, -0.0196964330971241, 0.02064572088420391, -0.011695235967636108, -0.12021058052778244, -0.0024256850592792034, -0.015537234954535961, 0.0075797438621521, -0.07284560799598694, -0.005615473259240389, -0.03771218657493591, 0.07821177691221237, -0.06151863560080528, 0.03179599717259407, 0.05511581152677536, 0.12524473667144775, 0.020131107419729233, -0.1066216453909874, -0.05971101298928261, -0.04360996559262276, 0.027926335111260414, 0.07983281463384628, 0.033111777156591415, -0.053359370678663254, 0.013722598552703857, 0.05767575651407242, -0.01617061346769333, 0.0016534685855731368, 0.04107943922281265, -0.06107708811759949, -0.0242368932813406, 0.06625192612409592, -0.05898560583591461, -0.06288275122642517, -0.04527279734611511, -0.04208375886082649, -0.06954678148031235, -0.030583856627345085, -0.010953756980597973, -0.008935893885791302, 0.04291493445634842, -0.014736869372427464, -0.054564859718084335, 0.02811259962618351, 0.021201740950345993, 0.030883725732564926, 0.023074129596352577, 0.06164930388331413, -0.08539930731058121, -0.00867790449410677, 0.031090622767806053, -0.03474107012152672, -0.028391193598508835, 0.032808732241392136, 0.08263769000768661, -0.019804686307907104, 0.0032160074915736914, -0.07223778963088989, 0.08937545120716095, 0.007475192658603191, -0.007959958165884018, -0.014866703189909458, -0.021047182381153107, 0.14850455522537231, -0.008307470940053463, -0.1071857213973999, 0.1733144223690033, 0.03041987307369709, 0.09339717775583267, 0.007469162344932556, 0.00013621262041851878, -0.004274027422070503, 0.05086280032992363, -0.06963622570037842, 0.05402015522122383, 0.00011096403613919392, -0.027460826560854912, 0.018588922917842865, -0.016439393162727356, -0.0005829117144457996, 0.03283541277050972, 0.09912659972906113, -0.013736587949097157, 0.00910093542188406, 0.09498000144958496, 0.02503000758588314, -0.011421811766922474, 0.021740306168794632, 0.00010060758359031752, -0.001743801636621356, 0.001736484351567924, -0.05128779262304306, 0.07440979033708572, 0.03287716954946518, -3.350480691422057e-33, 0.08298352360725403, -0.020326318219304085, 0.03876110538840294, 0.1328660100698471, -0.08396093547344208, -0.03135306388139725, -0.03232446312904358, -0.061878304928541183, 0.04514990374445915, 0.028195787221193314, 0.03390903398394585, 0.003868960775434971, -0.031138675287365913, 0.009927946142852306, 0.004788982681930065, 0.026779331266880035, -0.07524728775024414, 0.05246885493397713, -0.015911297872662544, 0.13071942329406738, -0.03510270640254021, -0.06776494532823563, -0.02059403993189335, 0.0585382841527462, 0.09097882360219955, -0.018186213448643684, -0.027557076886296272, -0.10209400951862335, -0.017737412825226784, 0.010632960125803947, -0.015168892219662666, -0.0008510701009072363, 0.050871022045612335, -0.003719624597579241, 0.0273189265280962, -0.016783051192760468, 0.0035938220098614693, -0.03753669932484627, -0.017640141770243645, 0.03360740467905998, -0.035978641360998154, 0.003527191234752536, 0.06151869148015976, -0.056035302579402924, 0.0005655009881593287, -0.04901329055428505, -0.047486234456300735, 0.040986575186252594, -0.010064528323709965, -0.029027016833424568, -0.06518653780221939, 0.002634469885379076, -0.08858685195446014, 0.06226634606719017, -0.025305230170488358, -0.025723500177264214, -0.014753472059965134, -0.02856633998453617, 0.03195687010884285, 0.05773860961198807, 0.0788092091679573, 0.1259593814611435, -0.04287371039390564, -0.0489492230117321, -0.12083633989095688, -0.0677705928683281, 0.011776483617722988, -0.01584283821284771, 0.059653833508491516, -0.09506479650735855, 0.008439933881163597, -0.026733389124274254, 0.04988609626889229, 0.043005798012018204, 0.04799070581793785, 0.04688773676753044, -0.019146036356687546, -0.02589358016848564, 0.021952619776129723, -0.048082780092954636, 0.0013835403369739652, 0.08013472706079483, -0.01627284474670887, -0.005119089037179947, 0.01721355691552162, 0.03126818314194679, -0.034570783376693726, -0.08101746439933777, -0.012567681260406971, -0.006278431974351406, -0.052580561488866806, 0.044118501245975494, 0.05477745831012726, -0.026100583374500275, -0.04437796771526337, 2.480620565614326e-33, 0.11715653538703918, 0.04941841587424278, -0.062331803143024445, -0.03312760591506958, -0.11254650354385376, -0.01795526221394539, -0.029348790645599365, 0.09428412467241287, -0.05447426810860634, 0.040550347417593, 0.07881896942853928, 0.023618435487151146, 0.04770152270793915, 0.01259852945804596, 0.03858701512217522, 0.006883474066853523, 0.11927437782287598, 0.05332329124212265, -0.03289845585823059, -0.018436655402183533, -0.07989481836557388, 0.07857758551836014, -0.03566434606909752, 0.014235230162739754, -0.009579189121723175, -0.01938818208873272, -0.012642497196793556, 0.06338728964328766, -0.07155585289001465, -0.0469987615942955, 0.03517835959792137, -0.017204849049448967, -0.019482482224702835, 0.09550642222166061, 0.06829942017793655, 0.03090476058423519, -0.021597744897007942, -0.07200006395578384, -0.030933653935790062, -0.07920467108488083, -0.07154062390327454, 0.060560230165719986, -0.02207985147833824, 0.07396817952394485, 0.06835561245679855, -0.05216459184885025, 0.0135996388271451, 0.00850654300302267, -0.03246491029858589, 0.04715733602643013, -0.0022511491551995277, -0.04116103798151016, -0.002977896248921752, 0.01400052011013031, -0.018500283360481262, 0.02556944452226162, -0.006701725535094738, -0.010540626011788845, 0.011224128305912018, -0.006399649661034346, 0.021584272384643555, 0.04127191752195358, 0.03872932121157646, 0.05715254321694374, 0.018339939415454865, 0.024776803329586983, -0.019088691100478172, 0.0009262798121199012, -0.04666951671242714, -0.0474989227950573, -0.05429251492023468, -0.011926478706300259, -0.010551568120718002, -0.022951345890760422, -0.00029592475038953125, 0.0075840274803340435, 0.0169745571911335, -0.004904243629425764, -0.02080809883773327, -0.0021425625309348106, -0.045608602464199066, 0.023244773969054222, 0.015370034612715244, -0.07411631941795349, -0.11422867327928543, -0.07072422653436661, 0.07939273118972778, 0.03611404076218605, 0.043998267501592636, 0.020085670053958893, 0.02864927425980568, 0.02711305022239685, -0.01544166635721922, 0.025578511878848076, 0.010999233461916447, -1.4758039235118758e-08, 0.03948865458369255, -0.011131921783089638, 0.04145985096693039, 0.0676526352763176, 0.01489338744431734, 0.08075834810733795, -0.0490187406539917, -0.02919181063771248, -0.010716069489717484, -0.05168938264250755, 0.07324808090925217, 0.037773896008729935, -0.08165750652551651, -0.07649979740381241, 0.03597713261842728, -0.009340569376945496, 0.06646434962749481, 0.08819801360368729, -0.07418032735586166, -0.08837801218032837, 0.05399833992123604, -0.005719924811273813, 0.007860713638365269, 0.03278480842709541, -0.014137674123048782, 0.03522101417183876, 0.007725381758064032, 0.019607512280344963, -0.01765209436416626, 0.08611030876636505, 0.012774442322552204, 0.15927311778068542, 0.0004327311762608588, -0.0015001966385170817, -0.002732285764068365, -0.05984605476260185, 0.0183874424546957, 0.005892544984817505, 0.0675031840801239, 0.010528765618801117, -0.03138703107833862, 0.0030174849089235067, -0.08806724846363068, -0.04988272488117218, -0.002080219332128763, -0.014063945040106773, 0.058099567890167236, -0.10324987024068832, -0.008198002353310585, -0.013387905433773994, -0.04927987605333328, 0.02203434519469738, 0.09050973504781723, 0.05789487063884735, 0.03997687250375748, 0.07443725317716599, -0.026324333623051643, 0.044278696179389954, -0.04990005120635033, 0.002285130089148879, -0.017302053049206734, -0.010154115967452526, -0.021010657772421837, -0.002401616657152772]\n",
      "384\n"
     ]
    }
   ],
   "source": [
    "query_result = embedding.embed_query(\"Hello How are you\")\n",
    "print(query_result)\n",
    "print(len(query_result))"
   ]
  },
  {
   "cell_type": "code",
   "execution_count": null,
   "id": "ffc4742f",
   "metadata": {},
   "outputs": [
    {
     "data": {
      "text/plain": [
       "True"
      ]
     },
     "execution_count": 52,
     "metadata": {},
     "output_type": "execute_result"
    }
   ],
   "source": [
    "from dotenv import load_dotenv\n",
    "load_dotenv()"
   ]
  },
  {
   "cell_type": "code",
   "execution_count": 53,
   "id": "c6f83123",
   "metadata": {},
   "outputs": [],
   "source": [
    "from pinecone.grpc import PineconeGRPC as pinecone\n",
    "from pinecone import ServerlessSpec\n",
    "import os"
   ]
  },
  {
   "cell_type": "code",
   "execution_count": 54,
   "id": "7d93ab6c",
   "metadata": {},
   "outputs": [],
   "source": [
    "PINECONE_API_KEY = os.environ.get(\"PINECONE_API_KEY\")"
   ]
  },
  {
   "cell_type": "code",
   "execution_count": 55,
   "id": "cb1a955d",
   "metadata": {},
   "outputs": [],
   "source": [
    "pc = pinecone(\n",
    "    api_key=PINECONE_API_KEY\n",
    ")"
   ]
  },
  {
   "cell_type": "code",
   "execution_count": 57,
   "id": "cd1f12ce",
   "metadata": {},
   "outputs": [
    {
     "data": {
      "text/plain": [
       "{\n",
       "    \"name\": \"constitution\",\n",
       "    \"metric\": \"cosine\",\n",
       "    \"host\": \"constitution-9yj22ay.svc.aped-4627-b74a.pinecone.io\",\n",
       "    \"spec\": {\n",
       "        \"serverless\": {\n",
       "            \"cloud\": \"aws\",\n",
       "            \"region\": \"us-east-1\"\n",
       "        }\n",
       "    },\n",
       "    \"status\": {\n",
       "        \"ready\": true,\n",
       "        \"state\": \"Ready\"\n",
       "    },\n",
       "    \"vector_type\": \"dense\",\n",
       "    \"dimension\": 384,\n",
       "    \"deletion_protection\": \"disabled\",\n",
       "    \"tags\": null\n",
       "}"
      ]
     },
     "execution_count": 57,
     "metadata": {},
     "output_type": "execute_result"
    }
   ],
   "source": [
    "index_name = \"constitution\"\n",
    "\n",
    "\n",
    "pc.create_index(\n",
    "    name=index_name,\n",
    "    dimension = 384,\n",
    "    metric = \"cosine\",\n",
    "    spec = ServerlessSpec(\n",
    "        cloud=\"aws\",\n",
    "        region=\"us-east-1\"\n",
    "    )\n",
    ")"
   ]
  },
  {
   "cell_type": "code",
   "execution_count": 58,
   "id": "7f541d06",
   "metadata": {},
   "outputs": [],
   "source": [
    "os.environ[\"PINECONE_API_KEY\"] = PINECONE_API_KEY"
   ]
  },
  {
   "cell_type": "code",
   "execution_count": 60,
   "id": "bdc8eeb2",
   "metadata": {},
   "outputs": [],
   "source": [
    "from langchain_pinecone import PineconeVectorStore\n",
    "\n",
    "vector_store = PineconeVectorStore.from_documents(\n",
    "    embedding=embedding,\n",
    "    index_name = index_name,\n",
    "    documents = text_chunks\n",
    ")"
   ]
  },
  {
   "cell_type": "code",
   "execution_count": 61,
   "id": "bbf39d8b",
   "metadata": {},
   "outputs": [],
   "source": [
    "# load index\n",
    "\n",
    "vector_store_load = PineconeVectorStore.from_existing_index(\n",
    "    index_name=index_name,\n",
    "    embedding=embedding\n",
    ")"
   ]
  },
  {
   "cell_type": "code",
   "execution_count": 73,
   "id": "b464c939",
   "metadata": {},
   "outputs": [],
   "source": [
    "retriever = vector_store_load.as_retriever(\n",
    "    search_type = \"similarity\",\n",
    "    search_kwargs = {\"k\" : 5}\n",
    ")"
   ]
  },
  {
   "cell_type": "code",
   "execution_count": 74,
   "id": "8d7ae9ec",
   "metadata": {},
   "outputs": [
    {
     "data": {
      "text/plain": [
       "[Document(id='aa1a6f44-b916-45f8-b6d1-a5ebfc79ab9c', metadata={'creationdate': '2022-04-25T06:57:54+00:00', 'creator': 'Mozilla/5.0 (Windows NT 10.0; Win64; x64) AppleWebKit/537.36 (KHTML, like Gecko) Chrome/100.0.4896.127 Safari/537.36', 'moddate': '2022-04-25T06:57:54+00:00', 'page': 1.0, 'page_label': '2', 'producer': 'Skia/PDF m100', 'source': 'data\\\\Constitution_Bangladesh.pdf', 'total_pages': 72.0}, page_content='The state\\nreligion\\n[2A. The state religion of the Republic is Islam, but the State shall ensure\\nequal status and equal right in the practice of the Hindu, Buddhist,\\nChristian and other religions.]\\n5\\nThe state\\nlanguage\\n3. The state language of the Republic is [Bangla].6\\nNational\\nanthem,\\nflag and\\nemblem'),\n",
       " Document(id='9a73d947-d23e-44b0-8bca-14f4e08d719b', metadata={'creationdate': '2022-04-25T06:57:54+00:00', 'creator': 'Mozilla/5.0 (Windows NT 10.0; Win64; x64) AppleWebKit/537.36 (KHTML, like Gecko) Chrome/100.0.4896.127 Safari/537.36', 'moddate': '2022-04-25T06:57:54+00:00', 'page': 6.0, 'page_label': '7', 'producer': 'Skia/PDF m100', 'source': 'data\\\\Constitution_Bangladesh.pdf', 'total_pages': 72.0}, page_content='of Judiciary\\nfrom the\\nexecutive\\n22. The State shall ensure the separation of the judiciary from the\\nexecutive organs of the State.\\nNational\\nculture\\n23. The State shall adopt measures to conserve the cultural traditions and\\nheritage of the people, and so to foster and improve the national language,'),\n",
       " Document(id='8d423d46-619d-4eb9-82bc-37b6d7f2a791', metadata={'creationdate': '2022-04-25T06:57:54+00:00', 'creator': 'Mozilla/5.0 (Windows NT 10.0; Win64; x64) AppleWebKit/537.36 (KHTML, like Gecko) Chrome/100.0.4896.127 Safari/537.36', 'moddate': '2022-04-25T06:57:54+00:00', 'page': 7.0, 'page_label': '8', 'producer': 'Skia/PDF m100', 'source': 'data\\\\Constitution_Bangladesh.pdf', 'total_pages': 72.0}, page_content='and\\nsolidarity\\n25. [***] The State shall base its international relations on the principles\\nof respect for national sovereignty and equality, non interference in the\\ninternal affairs of other countries, peaceful settlement of international\\ndisputes, and respect for'),\n",
       " Document(id='3041a507-868c-48ce-9a27-094977a54f4f', metadata={'creationdate': '2022-04-25T06:57:54+00:00', 'creator': 'Mozilla/5.0 (Windows NT 10.0; Win64; x64) AppleWebKit/537.36 (KHTML, like Gecko) Chrome/100.0.4896.127 Safari/537.36', 'moddate': '2022-04-25T06:57:54+00:00', 'page': 3.0, 'page_label': '4', 'producer': 'Skia/PDF m100', 'source': 'data\\\\Constitution_Bangladesh.pdf', 'total_pages': 72.0}, page_content='principles\\n8. [(1) The principles of nationalism, socialism, democracy and\\nsecularism, together with the principles derived from those as set out in\\nthis Part, shall constitute the fundamental principles of state policy.]\\n    (2) The principles set out in this Part shall be fundamental to the'),\n",
       " Document(id='d6df39f5-cdd6-4ade-ba96-99480ec50a81', metadata={'creationdate': '2022-04-25T06:57:54+00:00', 'creator': 'Mozilla/5.0 (Windows NT 10.0; Win64; x64) AppleWebKit/537.36 (KHTML, like Gecko) Chrome/100.0.4896.127 Safari/537.36', 'moddate': '2022-04-25T06:57:54+00:00', 'page': 66.0, 'page_label': '67', 'producer': 'Skia/PDF m100', 'source': 'data\\\\Constitution_Bangladesh.pdf', 'total_pages': 72.0}, page_content='25/04/2022 The Constitution of the People   ’s Republic of Bangladesh\\n    “the Speaker” means the person for the time being holding the office of\\nSpeaker pursuant to article 74;\\n    “the State” includes Parliament, the Government and statutory public\\nauthorities;')]"
      ]
     },
     "execution_count": 74,
     "metadata": {},
     "output_type": "execute_result"
    }
   ],
   "source": [
    "retriever.invoke(\"What is the state language?\")"
   ]
  },
  {
   "cell_type": "code",
   "execution_count": null,
   "id": "17800edf",
   "metadata": {},
   "outputs": [],
   "source": [
    "from langchain_huggingface import HuggingFaceEndpoint, ChatHuggingFace"
   ]
  },
  {
   "cell_type": "code",
   "execution_count": 79,
   "id": "29f45962",
   "metadata": {},
   "outputs": [],
   "source": [
    "llm_endpoint = HuggingFaceEndpoint(\n",
    "    repo_id= \"meta-llama/Llama-3.3-70B-Instruct\"\n",
    ")\n",
    "model = ChatHuggingFace(llm = llm_endpoint)"
   ]
  },
  {
   "cell_type": "code",
   "execution_count": null,
   "id": "b7c95c7b",
   "metadata": {},
   "outputs": [],
   "source": [
    "from langchain.chains import create_retrieval_chain\n",
    "from langchain.chains.combine_documents import create_stuff_documents_chain\n",
    "from langchain.memory import ConversationBufferMemory\n",
    "from langchain_core.prompts import ChatPromptTemplate"
   ]
  },
  {
   "cell_type": "code",
   "execution_count": 81,
   "id": "39a82640",
   "metadata": {},
   "outputs": [],
   "source": [
    "system_prompt = (\n",
    "    \"You are an AI assistant for question-answering tasks\"\n",
    "    \"Use the following pieces of retrieved context to answer the question.\"\n",
    "    \"If you don't know the answer, say that you don't know.\"\n",
    "    \"Use three sentences maximum and keep the answer concise.\"\n",
    "    \"\\n\\n\"\n",
    "    \"{context}\"    \n",
    ")"
   ]
  },
  {
   "cell_type": "code",
   "execution_count": 133,
   "id": "ab8037e1",
   "metadata": {},
   "outputs": [],
   "source": [
    "prompt = ChatPromptTemplate([\n",
    "    ('system' , system_prompt),\n",
    "    ('placeholder', \"{chat_history}\"),\n",
    "    ('human', \"{input}\")\n",
    "])"
   ]
  },
  {
   "cell_type": "code",
   "execution_count": 134,
   "id": "128d5a5a",
   "metadata": {},
   "outputs": [],
   "source": [
    "qa_chain = create_stuff_documents_chain(llm = model, prompt=prompt)\n",
    "rag_chain = create_retrieval_chain(retriever, qa_chain)\n",
    "\n",
    "memory = ConversationBufferMemory(\n",
    "    memory_key=\"chat_history\",\n",
    "    return_messages=True\n",
    ")"
   ]
  },
  {
   "cell_type": "code",
   "execution_count": null,
   "id": "df4f262e",
   "metadata": {},
   "outputs": [
    {
     "name": "stdout",
     "output_type": "stream",
     "text": [
      "You are Mahadi Hasan.\n"
     ]
    }
   ],
   "source": [
    "chat_history = memory.load_memory_variables({})[\"chat_history\"]\n",
    "\n",
    "question = \"who iam i?\"\n",
    "\n",
    "input = {\n",
    "    \"input\" : question,\n",
    "    \"chat_history\" : chat_history\n",
    "}\n",
    "\n",
    "response = rag_chain.invoke(input)\n",
    "answer = response[\"answer\"]\n",
    "memory.save_context({\"input\" : question},{\"answer\" : answer})\n",
    "\n",
    "print(answer)"
   ]
  },
  {
   "cell_type": "code",
   "execution_count": null,
   "id": "2e409290",
   "metadata": {},
   "outputs": [],
   "source": []
  },
  {
   "cell_type": "code",
   "execution_count": null,
   "id": "0f8575a3",
   "metadata": {},
   "outputs": [
    {
     "name": "stdout",
     "output_type": "stream",
     "text": [
      "I don't know your name. The provided context only mentions the name of a country, \"Bangladesh\", and does not contain any information about you. There is no personal data available to determine your name.\n"
     ]
    }
   ],
   "source": []
  },
  {
   "cell_type": "code",
   "execution_count": null,
   "id": "acc58ec6",
   "metadata": {},
   "outputs": [],
   "source": []
  }
 ],
 "metadata": {
  "kernelspec": {
   "display_name": "Python 3",
   "language": "python",
   "name": "python3"
  },
  "language_info": {
   "codemirror_mode": {
    "name": "ipython",
    "version": 3
   },
   "file_extension": ".py",
   "mimetype": "text/x-python",
   "name": "python",
   "nbconvert_exporter": "python",
   "pygments_lexer": "ipython3",
   "version": "3.10.0"
  }
 },
 "nbformat": 4,
 "nbformat_minor": 5
}
